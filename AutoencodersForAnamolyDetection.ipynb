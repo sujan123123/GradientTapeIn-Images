{
 "cells": [
  {
   "cell_type": "code",
   "execution_count": 2,
   "metadata": {},
   "outputs": [],
   "source": [
    "from tensorflow.keras.layers import BatchNormalization\n",
    "from tensorflow.keras.layers import Conv2D\n",
    "from tensorflow.keras.layers import Conv2DTranspose\n",
    "from tensorflow.keras.layers import LeakyReLU\n",
    "from tensorflow.keras.layers import Activation\n",
    "from tensorflow.keras.layers import Flatten\n",
    "from tensorflow.keras.layers import Dense\n",
    "from tensorflow.keras.layers import Reshape\n",
    "from tensorflow.keras.layers import Input\n",
    "from tensorflow.keras.models import Model\n",
    "from tensorflow.keras import backend as K\n",
    "import numpy as np"
   ]
  },
  {
   "cell_type": "code",
   "execution_count": 3,
   "metadata": {},
   "outputs": [],
   "source": [
    "class ConvAutoencoder:\n",
    "    @staticmethod\n",
    "    def build(width,height,depth,filters=(32,64),latentDim=16):\n",
    "        inputShape = (height,width,depth)\n",
    "        channelDim = -1\n",
    "        inputs = Input(shape=inputShape)\n",
    "        x = inputs\n",
    "        \n",
    "        for f in filters:\n",
    "            x = Conv2D(f,(3,3),strides=2,padding=\"same\")(x)\n",
    "            x = LeakyReLU(alpha = 0.2)(x)\n",
    "            x = BatchNormalization(axis = channelDim)(x)\n",
    "         #creating flatten way   \n",
    "        volumeSize = K.int_shape(x)\n",
    "        x = Flatten()(x)\n",
    "        latent = Dense(latentDim)(x)\n",
    "        \n",
    "        encoder = Model(inputs,latent,name=\"encoder\")\n",
    "        latentInputs = Input(shape=(latentDim,))\n",
    "        x = Dense(np.prod(volumeSize[1:]))(latentInputs)\n",
    "        x = Reshape((volumeSize[1], volumeSize[2],volumeSize[3]))(x)\n",
    "        \n",
    "        for f in filters[::-1]:\n",
    "            x = Conv2DTranspose(f,(3,3), strides=2,padding = \"same\")(x)\n",
    "            x = LeakyReLU(alpha = 0.2)(x)\n",
    "            x = BatchNormalization(axis = channelDim)(x)\n",
    "        x = Conv2DTranspose(depth,(3,3),padding=\"same\")(x)\n",
    "        outputs = Activation(\"sigmoid\")(x)\n",
    "        \n",
    "        decoder = Model(latentInputs,outputs, name = \"decoder\")\n",
    "        \n",
    "        autoencoder = Model(inputs,decoder(encoder(inputs)), name=\"autoencoder\")\n",
    "        \n",
    "        return (encoder, decoder, autoencoder)"
   ]
  },
  {
   "cell_type": "code",
   "execution_count": 4,
   "metadata": {},
   "outputs": [],
   "source": [
    "from tensorflow.keras.optimizers import Adam\n",
    "from tensorflow.keras.datasets import mnist\n",
    "from sklearn.model_selection import train_test_split\n",
    "import matplotlib.pyplot as plt\n",
    "import numpy as np\n",
    "import random"
   ]
  },
  {
   "cell_type": "code",
   "execution_count": 5,
   "metadata": {},
   "outputs": [],
   "source": [
    "def build_unsupervised_dataset(data, labels, \n",
    "                               validLabel=1, anomalyLabel=3,\n",
    "                               contam=0.01, seed  = 42):\n",
    "    validIdxs = np.where(labels == validLabel)[0]\n",
    "    anomalyIdxs = np.where(labels == anomalyLabel)[0]\n",
    "    \n",
    "    random.shuffle(validIdxs)\n",
    "    random.shuffle(anomalyIdxs)\n",
    "    \n",
    "    i = int(len(validIdxs) * contam)\n",
    "    anomalyIdxs = anomalyIdxs[:i]\n",
    "    \n",
    "    validImages = data[validIdxs]\n",
    "    anomalyImages = data[anomalyIdxs]\n",
    "    \n",
    "    images = np.vstack([validImages, anomalyImages])\n",
    "    \n",
    "    np.random.seed(seed)\n",
    "    np.random.shuffle(images)\n",
    "    \n",
    "    return images"
   ]
  },
  {
   "cell_type": "code",
   "execution_count": 6,
   "metadata": {},
   "outputs": [],
   "source": [
    "def visualize_predictions(decoded, gt, samples=10):\n",
    "    outputs = None\n",
    "    \n",
    "    for i in range(0, samples):\n",
    "        original = (gt[i] * 255).astype(\"uint8\")\n",
    "        recon = (decoded[i] * 255).astype(\"uint8\")\n",
    "        \n",
    "        output = np.hstack([original,recon])\n",
    "        \n",
    "        if outputs is None:\n",
    "            outputs = output\n",
    "            \n",
    "        else:\n",
    "            outputs = np.vstack([outputs,output])\n",
    "            \n",
    "    return outputs"
   ]
  },
  {
   "cell_type": "code",
   "execution_count": 7,
   "metadata": {},
   "outputs": [],
   "source": [
    "from tensorflow.keras.losses import mse\n",
    "import tensorflow as tf\n",
    "def step(X,y):\n",
    "    with tf.GradientTape() as tape:\n",
    "        pred = autoencoder(X)\n",
    "        loss = mse(y,pred)\n",
    "        \n",
    "    grads = tape.gradient(loss,autoencoder.trainable_variables)\n",
    "    opt.apply_gradients(zip(grads,autoencoder.trainable_variables))"
   ]
  },
  {
   "cell_type": "code",
   "execution_count": 8,
   "metadata": {},
   "outputs": [
    {
     "name": "stdout",
     "output_type": "stream",
     "text": [
      "(5447, 28, 28, 1)\n",
      "Starting epoch 1/20time:  0.12528495788574218\n",
      "Starting epoch 2/20time:  0.11871595780054728\n",
      "Starting epoch 3/20time:  0.11249612967173259\n",
      "Starting epoch 4/20time:  0.11328057845433553\n",
      "Starting epoch 5/20time:  0.1123375137646993\n",
      "Starting epoch 6/20time:  0.11244090795516967\n",
      "Starting epoch 7/20time:  0.11251984437306722\n",
      "Starting epoch 8/20time:  0.11238555113474528\n",
      "Starting epoch 9/20time:  0.11244738896687825\n",
      "Starting epoch 10/20time:  0.11294925212860107\n",
      "Starting epoch 11/20time:  0.11241437594095866\n",
      "Starting epoch 12/20time:  0.11268552939097086\n",
      "Starting epoch 13/20time:  0.11264166434605917\n",
      "Starting epoch 14/20time:  0.11272534132003784\n",
      "Starting epoch 15/20time:  0.1125389059384664\n",
      "Starting epoch 16/20time:  0.11250311930974324\n",
      "Starting epoch 17/20time:  0.11253577470779419\n",
      "Starting epoch 18/20time:  0.11233548720677694\n",
      "Starting epoch 19/20time:  0.11253741184870401\n",
      "Starting epoch 20/20time:  0.11209816137949626\n"
     ]
    }
   ],
   "source": [
    "import sys\n",
    "import time\n",
    "EPOCHS = 20\n",
    "INIT_LR = 1e-3\n",
    "BS = 32\n",
    "np.random.seed(3)\n",
    "((trainX, trainY), (testX, testY)) = mnist.load_data()\n",
    "images = build_unsupervised_dataset(trainX,trainY, validLabel=1,anomalyLabel=3,contam = 0.01)\n",
    "images = np.expand_dims(images, axis=-1)\n",
    "images = images.astype(\"float32\")/255.0\n",
    "trainX , testX = train_test_split(images, test_size=0.2, random_state=3)\n",
    "print(trainX.shape)\n",
    "numUpdates = int(trainX.shape[0]/BS)\n",
    "(encoder,decoder,autoencoder) = ConvAutoencoder.build(28,28,1)\n",
    "opt = Adam(lr=INIT_LR, decay = INIT_LR/EPOCHS)\n",
    "\n",
    "for epoch in range(0,EPOCHS):\n",
    "    print(\"Starting epoch {}/{}\".format(epoch+1,EPOCHS),end = '')\n",
    "    sys.stdout.flush()\n",
    "    epochStart = time.time()\n",
    "        \n",
    "    for i in range(0,numUpdates):\n",
    "        \n",
    "        start = i*BS\n",
    "        end = start +BS\n",
    "        step(trainX[start:end],trainX[start:end])\n",
    "    \n",
    "    epochEnd = time.time()\n",
    "    elapsed = (epochEnd - epochStart)/60.0\n",
    "    print('time: ',elapsed)\n",
    "\n",
    "autoencoder.compile(loss='mse',optimizer = opt)\n",
    "\n",
    "#H = autoencoder.fit(trainX,trainX,validation_data=(testX,testX),epochs=EPOCHS,batch_size = BS)\n",
    "#autoencoder.save(\"autoencoder\", save_format=\"h5\")\n",
    "decoded = autoencoder.predict(testX)\n"
   ]
  },
  {
   "cell_type": "code",
   "execution_count": 9,
   "metadata": {},
   "outputs": [
    {
     "data": {
      "image/png": "[encoded data removed]",
      "text/plain": [
       "<Figure size 864x864 with 1 Axes>"
      ]
     },
     "metadata": {
      "needs_background": "light"
     },
     "output_type": "display_data"
    }
   ],
   "source": [
    "vis = visualize_predictions(decoded,testX)\n",
    "vis.shape\n",
    "ss = np.squeeze(vis)\n",
    "plt.figure(figsize=(12,12))\n",
    "plt.imshow(ss)\n",
    "plt.show()"
   ]
  },
  {
   "cell_type": "code",
   "execution_count": 10,
   "metadata": {},
   "outputs": [
    {
     "name": "stdout",
     "output_type": "stream",
     "text": [
      "[INFO] mse threshold: 0.03280620399117473\n",
      "[INFO] 7 outliers found\n"
     ]
    }
   ],
   "source": [
    "decoded = autoencoder.predict(images)\n",
    "errors = []\n",
    "\n",
    "for (image,recon) in zip(images,decoded):\n",
    "    mse = np.mean((image -recon) **2)\n",
    "    errors.append(mse)\n",
    "    \n",
    "thresh = np.quantile(errors,0.999)\n",
    "idxs = np.where(np.array(errors) >= thresh)[0]\n",
    "print(\"[INFO] mse threshold: {}\".format(thresh))\n",
    "print(\"[INFO] {} outliers found\".format(len(idxs)))\n"
   ]
  },
  {
   "cell_type": "code",
   "execution_count": 11,
   "metadata": {},
   "outputs": [
    {
     "data": {
      "image/png": "[encoded data removed]",
      "text/plain": [
       "<Figure size 864x864 with 1 Axes>"
      ]
     },
     "metadata": {
      "needs_background": "light"
     },
     "output_type": "display_data"
    }
   ],
   "source": [
    "outputs = None\n",
    "for i in idxs:\n",
    "    original = (images[i] * 255).astype(\"uint8\")\n",
    "    recon = (decoded[i] * 255).astype(\"uint8\")\n",
    "    output = np.hstack([original, recon])\n",
    "\n",
    "    if outputs is None:\n",
    "        outputs = output\n",
    "    else:\n",
    "        outputs = np.vstack([outputs, output])\n",
    "s = np.squeeze(outputs)\n",
    "plt.figure(figsize=(12,12))\n",
    "plt.imshow(s)\n",
    "plt.show()"
   ]
  },
  {
   "cell_type": "code",
   "execution_count": 14,
   "metadata": {},
   "outputs": [
    {
     "name": "stdout",
     "output_type": "stream",
     "text": [
      "Model: \"autoencoder\"\n",
      "_________________________________________________________________\n",
      "Layer (type)                 Output Shape              Param #   \n",
      "=================================================================\n",
      "input_1 (InputLayer)         [(None, 28, 28, 1)]       0         \n",
      "_________________________________________________________________\n",
      "encoder (Model)              (None, 16)                69392     \n",
      "_________________________________________________________________\n",
      "decoder (Model)              (None, 28, 28, 1)         109377    \n",
      "=================================================================\n",
      "Total params: 178,769\n",
      "Trainable params: 178,385\n",
      "Non-trainable params: 384\n",
      "_________________________________________________________________\n",
      "Model: \"encoder\"\n",
      "_________________________________________________________________\n",
      "Layer (type)                 Output Shape              Param #   \n",
      "=================================================================\n",
      "input_1 (InputLayer)         [(None, 28, 28, 1)]       0         \n",
      "_________________________________________________________________\n",
      "conv2d (Conv2D)              (None, 14, 14, 32)        320       \n",
      "_________________________________________________________________\n",
      "leaky_re_lu (LeakyReLU)      (None, 14, 14, 32)        0         \n",
      "_________________________________________________________________\n",
      "batch_normalization (BatchNo (None, 14, 14, 32)        128       \n",
      "_________________________________________________________________\n",
      "conv2d_1 (Conv2D)            (None, 7, 7, 64)          18496     \n",
      "_________________________________________________________________\n",
      "leaky_re_lu_1 (LeakyReLU)    (None, 7, 7, 64)          0         \n",
      "_________________________________________________________________\n",
      "batch_normalization_1 (Batch (None, 7, 7, 64)          256       \n",
      "_________________________________________________________________\n",
      "flatten (Flatten)            (None, 3136)              0         \n",
      "_________________________________________________________________\n",
      "dense (Dense)                (None, 16)                50192     \n",
      "=================================================================\n",
      "Total params: 69,392\n",
      "Trainable params: 69,200\n",
      "Non-trainable params: 192\n",
      "_________________________________________________________________\n",
      "Model: \"decoder\"\n",
      "_________________________________________________________________\n",
      "Layer (type)                 Output Shape              Param #   \n",
      "=================================================================\n",
      "input_2 (InputLayer)         [(None, 16)]              0         \n",
      "_________________________________________________________________\n",
      "dense_1 (Dense)              (None, 3136)              53312     \n",
      "_________________________________________________________________\n",
      "reshape (Reshape)            (None, 7, 7, 64)          0         \n",
      "_________________________________________________________________\n",
      "conv2d_transpose (Conv2DTran (None, 14, 14, 64)        36928     \n",
      "_________________________________________________________________\n",
      "leaky_re_lu_2 (LeakyReLU)    (None, 14, 14, 64)        0         \n",
      "_________________________________________________________________\n",
      "batch_normalization_2 (Batch (None, 14, 14, 64)        256       \n",
      "_________________________________________________________________\n",
      "conv2d_transpose_1 (Conv2DTr (None, 28, 28, 32)        18464     \n",
      "_________________________________________________________________\n",
      "leaky_re_lu_3 (LeakyReLU)    (None, 28, 28, 32)        0         \n",
      "_________________________________________________________________\n",
      "batch_normalization_3 (Batch (None, 28, 28, 32)        128       \n",
      "_________________________________________________________________\n",
      "conv2d_transpose_2 (Conv2DTr (None, 28, 28, 1)         289       \n",
      "_________________________________________________________________\n",
      "activation (Activation)      (None, 28, 28, 1)         0         \n",
      "=================================================================\n",
      "Total params: 109,377\n",
      "Trainable params: 109,185\n",
      "Non-trainable params: 192\n",
      "_________________________________________________________________\n"
     ]
    }
   ],
   "source": [
    "autoencoder.summary()\n",
    "encoder.summary()\n",
    "decoder.summary()"
   ]
  },
  {
   "cell_type": "code",
   "execution_count": null,
   "metadata": {},
   "outputs": [],
   "source": []
  }
 ],
 "metadata": {
  "kernelspec": {
   "display_name": "Python 3",
   "language": "python",
   "name": "python3"
  },
  "language_info": {
   "codemirror_mode": {
    "name": "ipython",
    "version": 3
   },
   "file_extension": ".py",
   "mimetype": "text/x-python",
   "name": "python",
   "nbconvert_exporter": "python",
   "pygments_lexer": "ipython3",
   "version": "3.7.6"
  }
 },
 "nbformat": 4,
 "nbformat_minor": 4
}
